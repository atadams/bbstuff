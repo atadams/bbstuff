{
 "cells": [
  {
   "cell_type": "code",
   "execution_count": 39,
   "metadata": {
    "collapsed": true,
    "pycharm": {
     "name": "#%%\n"
    }
   },
   "outputs": [],
   "source": [
    "import statsapi"
   ]
  },
  {
   "cell_type": "code",
   "execution_count": 48,
   "outputs": [
    {
     "name": "stdout",
     "output_type": "stream",
     "text": [
      "firstName,lastName,fullName,birthDate,twitter,instagram,youtube\n",
      "Abraham,Toro,Abraham Toro,1996-12-20,,,\n",
      "Aledmys,Diaz,Aledmys Diaz,1990-08-01,,,\n",
      "Alexander,Bregman,Alex Bregman,1994-03-30,@ABREG_1,abreg_1,Alex Bregman\n",
      "Andre,Scrubb,Andre Scrubb,1995-01-13,,,\n",
      "Austin,Pruitt,Austin Pruitt,1989-08-31,,,\n",
      "Blake,Taylor,Blake Taylor,1995-08-17,,,\n",
      "Brandon,Bielak,Brandon Bielak,1996-04-02,,,\n",
      "Brooks,Raley,Brooks Raley,1988-06-29,@BrooksRaley,,\n",
      "Bryan,Abreu,Bryan Abreu,1997-04-22,,,\n",
      "Carlos,Correa,Carlos Correa,1994-09-22,@TeamCJCorrea,teamcjcorrea,\n",
      "Chas,McCormick,Chas McCormick,1995-04-19,,,\n",
      "Cristian,Javier,Cristian Javier,1997-03-26,,,\n",
      "Enoli,Paredes,Enoli Paredes,1995-09-28,,,\n",
      "Charles,Whitley,Forrest Whitley,1997-09-15,,,\n",
      "Framber,Valdez,Framber Valdez,1993-11-19,,,\n",
      "Freudis,Nova,Freudis Nova,2000-01-12,@FreudisNova,,\n",
      "Garrett,Stubbs,Garrett Stubbs,1993-05-26,@GarrettStubbs,garrettstubbs,\n",
      "Jairo,Solis,Jairo Solis,1999-12-22,,,\n",
      "Jason,Castro,Jason Castro,1987-06-18,@J_Castro15,,\n",
      "Joseph,Smith,Joe Smith,1984-03-22,@thethree8,thethree8,\n",
      "Jose,Altuve,Jose Altuve,1990-05-06,@JoseAltuve27,josealtuve27,\n",
      "Jose,Urquidy,Jose Urquidy,1995-05-01,,joselurquidy,\n",
      "Joshua,James,Josh James,1993-03-08,@josh_james63,josh_james4,\n",
      "Kyle,Tucker,Kyle Tucker,1997-01-17,@KTuck30,ktuck_30,\n",
      "Lance,McCullers,Lance McCullers Jr.,1993-10-02,@LMcCullers43,,\n",
      "Luis,Garcia,Luis Garcia,1996-12-13,,,\n",
      "Martin,Maldonado,Martin Maldonado,1986-08-16,@Machete1224,,\n",
      "Michael,Brantley,Michael Brantley,1987-05-15,,,\n",
      "Myles,Straw,Myles Straw,1994-10-17,@myles_straw,mylesstraw,\n",
      "Nivaldo,Rodriguez,Nivaldo Rodriguez,1997-04-16,,,\n",
      "Pedro,Baez,Pedro Baez,1988-03-11,,,\n",
      "Peter,Solomon,Peter Solomon,1996-08-16,,,\n",
      "Robel,Garcia,Robel Garcia,1993-03-28,,robelgarcia02,\n",
      "Thomas,Pressly,Ryan Pressly,1988-12-15,,,\n",
      "Ryne,Stanek,Ryne Stanek,1991-07-26,@rstanek_55,rstanek_55,\n",
      "Taylor,Jones,Taylor Jones,1993-12-06,,,\n",
      "Tyler,Ivey,Tyler Ivey,1996-05-12,,,\n",
      "Yordan,Alvarez,Yordan Alvarez,1997-06-27,@YordanAlvarez2,yordan4342,\n",
      "Yulieski,Gurriel,Yuli Gurriel,1984-06-09,@el_yuly10,el_yuly10,\n",
      "Donald,Greinke,Zack Greinke,1983-10-21,@greinke_21,,\n"
     ]
    }
   ],
   "source": [
    "astros_data = statsapi.get('team_roster', {'teamId':117})\n",
    "player_list = []\n",
    "\n",
    "print('firstName,lastName,fullName,birthDate,twitter,instagram,youtube')\n",
    "for player in astros_data['roster']:\n",
    "    player_data = statsapi.get('person', {'personId': player['person']['id'],'hydrate':'social'})\n",
    "    # player_data = statsapi.get('person', {'personId': player['person']['id'], 'fields':'people,id,fullName,firstName,lastName,primaryNumber,currentTeam,id,primaryPosition,code,abbreviation,useName,boxscoreName,nickName,mlbDebutDate,nameFirstLast,firstLastName,lastFirstName,lastInitName,initLastName,fullFMLName,fullLFMName,social'})\n",
    "    info = player_data[\"people\"][0]\n",
    "    social = info.get('social', {})\n",
    "    twitter = social.get('twitter', [''])\n",
    "    instagram = social.get('instagram', [''])\n",
    "    youtube = social.get('youtube', [''])\n",
    "    print(f'{info[\"firstName\"]},{info[\"lastName\"]},{info[\"fullName\"]},{info[\"birthDate\"]},{twitter[0]},{instagram[0]},{youtube[0]}')\n",
    "    # print(player_data)\n",
    "# player = statsapi.player_stats(621043, type=\"season\")\n",
    "# print(player)"
   ],
   "metadata": {
    "collapsed": false,
    "pycharm": {
     "name": "#%%\n"
    }
   }
  }
 ],
 "metadata": {
  "kernelspec": {
   "display_name": "Python 3",
   "language": "python",
   "name": "python3"
  },
  "language_info": {
   "codemirror_mode": {
    "name": "ipython",
    "version": 2
   },
   "file_extension": ".py",
   "mimetype": "text/x-python",
   "name": "python",
   "nbconvert_exporter": "python",
   "pygments_lexer": "ipython2",
   "version": "2.7.6"
  }
 },
 "nbformat": 4,
 "nbformat_minor": 0
}